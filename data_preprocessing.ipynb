{
 "cells": [
  {
   "cell_type": "code",
   "execution_count": 5,
   "id": "3845c92e-a02c-4f92-812e-f7d0839578fe",
   "metadata": {},
   "outputs": [],
   "source": [
    "import pandas as pd\n",
    "import numpy as np"
   ]
  },
  {
   "cell_type": "code",
   "execution_count": 7,
   "id": "7c510ba6-a9bf-4405-a850-1ae8bbe563d9",
   "metadata": {},
   "outputs": [],
   "source": [
    "df = pd.read_csv(r\"C:\\Users\\samee\\OneDrive\\Desktop\\azzu\\sales.csv\")"
   ]
  },
  {
   "cell_type": "code",
   "execution_count": null,
   "id": "247e8e06-5bce-48b1-b8a2-297bb86eeb46",
   "metadata": {
    "panel-layout": {
     "height": 0,
     "visible": true,
     "width": 100
    }
   },
   "outputs": [],
   "source": [
    "df.info()"
   ]
  },
  {
   "cell_type": "code",
   "execution_count": 11,
   "id": "a7f882bb-c987-41e8-bea7-a9f5a76e76e1",
   "metadata": {
    "panel-layout": {
     "height": 256.3999938964844,
     "visible": true,
     "width": 100
    }
   },
   "outputs": [
    {
     "data": {
      "text/html": [
       "<div>\n",
       "<style scoped>\n",
       "    .dataframe tbody tr th:only-of-type {\n",
       "        vertical-align: middle;\n",
       "    }\n",
       "\n",
       "    .dataframe tbody tr th {\n",
       "        vertical-align: top;\n",
       "    }\n",
       "\n",
       "    .dataframe thead th {\n",
       "        text-align: right;\n",
       "    }\n",
       "</style>\n",
       "<table border=\"1\" class=\"dataframe\">\n",
       "  <thead>\n",
       "    <tr style=\"text-align: right;\">\n",
       "      <th></th>\n",
       "      <th>date</th>\n",
       "      <th>platform</th>\n",
       "      <th>product_name</th>\n",
       "      <th>category</th>\n",
       "      <th>sub_category</th>\n",
       "      <th>region</th>\n",
       "      <th>units_sold</th>\n",
       "      <th>unit_price</th>\n",
       "      <th>revenue</th>\n",
       "      <th>discount</th>\n",
       "      <th>...</th>\n",
       "      <th>profit_margin</th>\n",
       "      <th>sentiment_score</th>\n",
       "      <th>day_of_week</th>\n",
       "      <th>month</th>\n",
       "      <th>year</th>\n",
       "      <th>promotion_type</th>\n",
       "      <th>customer_name</th>\n",
       "      <th>customer_age</th>\n",
       "      <th>mobile_number</th>\n",
       "      <th>customer_region</th>\n",
       "    </tr>\n",
       "  </thead>\n",
       "  <tbody>\n",
       "    <tr>\n",
       "      <th>0</th>\n",
       "      <td>2024-12-07</td>\n",
       "      <td>Myntra</td>\n",
       "      <td>Watch</td>\n",
       "      <td>Accessories</td>\n",
       "      <td>Watches</td>\n",
       "      <td>East</td>\n",
       "      <td>14</td>\n",
       "      <td>1583.45</td>\n",
       "      <td>19951.43</td>\n",
       "      <td>10</td>\n",
       "      <td>...</td>\n",
       "      <td>0.23</td>\n",
       "      <td>-0.66</td>\n",
       "      <td>Saturday</td>\n",
       "      <td>12</td>\n",
       "      <td>2024</td>\n",
       "      <td>NaN</td>\n",
       "      <td>Kabir</td>\n",
       "      <td>58</td>\n",
       "      <td>9349568038</td>\n",
       "      <td>East</td>\n",
       "    </tr>\n",
       "    <tr>\n",
       "      <th>1</th>\n",
       "      <td>2024-12-31</td>\n",
       "      <td>Amazon</td>\n",
       "      <td>Smartphone</td>\n",
       "      <td>Electronics</td>\n",
       "      <td>Mobiles</td>\n",
       "      <td>East</td>\n",
       "      <td>68</td>\n",
       "      <td>1372.26</td>\n",
       "      <td>83982.40</td>\n",
       "      <td>10</td>\n",
       "      <td>...</td>\n",
       "      <td>0.25</td>\n",
       "      <td>-0.39</td>\n",
       "      <td>Tuesday</td>\n",
       "      <td>12</td>\n",
       "      <td>2024</td>\n",
       "      <td>BOGO</td>\n",
       "      <td>Saanvi</td>\n",
       "      <td>35</td>\n",
       "      <td>9470380032</td>\n",
       "      <td>South</td>\n",
       "    </tr>\n",
       "    <tr>\n",
       "      <th>2</th>\n",
       "      <td>2024-12-19</td>\n",
       "      <td>Ajio</td>\n",
       "      <td>Smartphone</td>\n",
       "      <td>Electronics</td>\n",
       "      <td>Mobiles</td>\n",
       "      <td>East</td>\n",
       "      <td>68</td>\n",
       "      <td>112.95</td>\n",
       "      <td>6912.41</td>\n",
       "      <td>10</td>\n",
       "      <td>...</td>\n",
       "      <td>0.37</td>\n",
       "      <td>0.69</td>\n",
       "      <td>Thursday</td>\n",
       "      <td>12</td>\n",
       "      <td>2024</td>\n",
       "      <td>NaN</td>\n",
       "      <td>Vivaan</td>\n",
       "      <td>52</td>\n",
       "      <td>9620919300</td>\n",
       "      <td>North</td>\n",
       "    </tr>\n",
       "    <tr>\n",
       "      <th>3</th>\n",
       "      <td>2024-12-10</td>\n",
       "      <td>Ajio</td>\n",
       "      <td>Shirt</td>\n",
       "      <td>Clothing</td>\n",
       "      <td>Topwear</td>\n",
       "      <td>West</td>\n",
       "      <td>74</td>\n",
       "      <td>260.35</td>\n",
       "      <td>15412.45</td>\n",
       "      <td>20</td>\n",
       "      <td>...</td>\n",
       "      <td>0.12</td>\n",
       "      <td>-0.23</td>\n",
       "      <td>Tuesday</td>\n",
       "      <td>12</td>\n",
       "      <td>2024</td>\n",
       "      <td>Coupon</td>\n",
       "      <td>Aarav</td>\n",
       "      <td>32</td>\n",
       "      <td>9767352732</td>\n",
       "      <td>South</td>\n",
       "    </tr>\n",
       "    <tr>\n",
       "      <th>4</th>\n",
       "      <td>2024-12-27</td>\n",
       "      <td>Ajio</td>\n",
       "      <td>Smartphone</td>\n",
       "      <td>Electronics</td>\n",
       "      <td>Mobiles</td>\n",
       "      <td>East</td>\n",
       "      <td>23</td>\n",
       "      <td>421.90</td>\n",
       "      <td>9703.76</td>\n",
       "      <td>0</td>\n",
       "      <td>...</td>\n",
       "      <td>0.36</td>\n",
       "      <td>0.88</td>\n",
       "      <td>Friday</td>\n",
       "      <td>12</td>\n",
       "      <td>2024</td>\n",
       "      <td>Coupon</td>\n",
       "      <td>Anaya</td>\n",
       "      <td>44</td>\n",
       "      <td>9356637617</td>\n",
       "      <td>South</td>\n",
       "    </tr>\n",
       "  </tbody>\n",
       "</table>\n",
       "<p>5 rows × 29 columns</p>\n",
       "</div>"
      ],
      "text/plain": [
       "         date platform product_name     category sub_category region  \\\n",
       "0  2024-12-07   Myntra        Watch  Accessories      Watches   East   \n",
       "1  2024-12-31   Amazon   Smartphone  Electronics      Mobiles   East   \n",
       "2  2024-12-19     Ajio   Smartphone  Electronics      Mobiles   East   \n",
       "3  2024-12-10     Ajio        Shirt     Clothing      Topwear   West   \n",
       "4  2024-12-27     Ajio   Smartphone  Electronics      Mobiles   East   \n",
       "\n",
       "   units_sold  unit_price   revenue  discount  ...  profit_margin  \\\n",
       "0          14     1583.45  19951.43        10  ...           0.23   \n",
       "1          68     1372.26  83982.40        10  ...           0.25   \n",
       "2          68      112.95   6912.41        10  ...           0.37   \n",
       "3          74      260.35  15412.45        20  ...           0.12   \n",
       "4          23      421.90   9703.76         0  ...           0.36   \n",
       "\n",
       "   sentiment_score  day_of_week  month  year  promotion_type  customer_name  \\\n",
       "0            -0.66     Saturday     12  2024             NaN          Kabir   \n",
       "1            -0.39      Tuesday     12  2024            BOGO         Saanvi   \n",
       "2             0.69     Thursday     12  2024             NaN         Vivaan   \n",
       "3            -0.23      Tuesday     12  2024          Coupon          Aarav   \n",
       "4             0.88       Friday     12  2024          Coupon          Anaya   \n",
       "\n",
       "   customer_age  mobile_number  customer_region  \n",
       "0            58     9349568038             East  \n",
       "1            35     9470380032            South  \n",
       "2            52     9620919300            North  \n",
       "3            32     9767352732            South  \n",
       "4            44     9356637617            South  \n",
       "\n",
       "[5 rows x 29 columns]"
      ]
     },
     "execution_count": 11,
     "metadata": {},
     "output_type": "execute_result"
    }
   ],
   "source": [
    "df.head()"
   ]
  },
  {
   "cell_type": "code",
   "execution_count": 13,
   "id": "b0006791-1883-4bd9-8c7b-345dd9eb09f9",
   "metadata": {
    "panel-layout": {
     "height": 0,
     "visible": true,
     "width": 100
    }
   },
   "outputs": [
    {
     "name": "stdout",
     "output_type": "stream",
     "text": [
      "date                   0\n",
      "platform               0\n",
      "product_name           0\n",
      "category               0\n",
      "sub_category           0\n",
      "region                 0\n",
      "units_sold             0\n",
      "unit_price             0\n",
      "revenue                0\n",
      "discount               0\n",
      "final_price            0\n",
      "marketing_spend        0\n",
      "holiday_flag           0\n",
      "customer_rating        0\n",
      "return_rate            0\n",
      "stock_available        0\n",
      "competitor_price       0\n",
      "delivery_time_days     0\n",
      "platform_fee           0\n",
      "profit_margin          0\n",
      "sentiment_score        0\n",
      "day_of_week            0\n",
      "month                  0\n",
      "year                   0\n",
      "promotion_type        64\n",
      "customer_name          0\n",
      "customer_age           0\n",
      "mobile_number          0\n",
      "customer_region        0\n",
      "dtype: int64\n"
     ]
    }
   ],
   "source": [
    "print(df.isnull().sum())"
   ]
  },
  {
   "cell_type": "code",
   "execution_count": 15,
   "id": "8219a789-6f7b-402d-9f43-0e9bec33b8fe",
   "metadata": {
    "panel-layout": {
     "height": 0,
     "visible": true,
     "width": 100
    }
   },
   "outputs": [
    {
     "name": "stdout",
     "output_type": "stream",
     "text": [
      "date                   object\n",
      "platform               object\n",
      "product_name           object\n",
      "category               object\n",
      "sub_category           object\n",
      "region                 object\n",
      "units_sold              int64\n",
      "unit_price            float64\n",
      "revenue               float64\n",
      "discount                int64\n",
      "final_price           float64\n",
      "marketing_spend       float64\n",
      "holiday_flag            int64\n",
      "customer_rating         int64\n",
      "return_rate           float64\n",
      "stock_available         int64\n",
      "competitor_price      float64\n",
      "delivery_time_days      int64\n",
      "platform_fee          float64\n",
      "profit_margin         float64\n",
      "sentiment_score       float64\n",
      "day_of_week            object\n",
      "month                   int64\n",
      "year                    int64\n",
      "promotion_type         object\n",
      "customer_name          object\n",
      "customer_age            int64\n",
      "mobile_number           int64\n",
      "customer_region        object\n",
      "dtype: object\n"
     ]
    }
   ],
   "source": [
    "print(df.dtypes)"
   ]
  },
  {
   "cell_type": "code",
   "execution_count": 17,
   "id": "3020c738-8096-4816-9eb7-39f9d4307475",
   "metadata": {
    "panel-layout": {
     "height": 0,
     "visible": true,
     "width": 100
    }
   },
   "outputs": [
    {
     "name": "stdout",
     "output_type": "stream",
     "text": [
      "Number of duplicate rows: 0\n"
     ]
    }
   ],
   "source": [
    "print(f\"Number of duplicate rows: {df.duplicated().sum()}\")"
   ]
  },
  {
   "cell_type": "code",
   "execution_count": 19,
   "id": "23747be4-8f27-4aae-8b29-efbf62de1f5c",
   "metadata": {
    "panel-layout": {
     "height": 0,
     "visible": true,
     "width": 100
    }
   },
   "outputs": [
    {
     "name": "stdout",
     "output_type": "stream",
     "text": [
      "promotion_type    64\n",
      "dtype: int64\n"
     ]
    }
   ],
   "source": [
    "missing_values = df.isnull().sum()\n",
    "print(missing_values[missing_values > 0])"
   ]
  },
  {
   "cell_type": "code",
   "execution_count": 21,
   "id": "03113271-f370-41c1-a3f3-6102e88907db",
   "metadata": {},
   "outputs": [],
   "source": [
    "df['promotion_type'] = df['promotion_type'].fillna('None')"
   ]
  },
  {
   "cell_type": "code",
   "execution_count": 23,
   "id": "9873d992-6db2-4193-a635-b3225656faad",
   "metadata": {},
   "outputs": [],
   "source": [
    "df['date'] = pd.to_datetime(df['date'])"
   ]
  },
  {
   "cell_type": "code",
   "execution_count": 25,
   "id": "07eaff9a-be09-4a31-add6-b09b4713e90d",
   "metadata": {},
   "outputs": [],
   "source": [
    "numeric_cols = ['units_sold', 'unit_price', 'revenue', 'discount', 'final_price', \n",
    "                'marketing_spend', 'customer_rating', 'return_rate', 'stock_available',\n",
    "                'competitor_price', 'delivery_time_days', 'platform_fee', 'profit_margin',\n",
    "                'sentiment_score', 'customer_age']"
   ]
  },
  {
   "cell_type": "code",
   "execution_count": 27,
   "id": "92c05ef0-42fa-4753-8fcf-e1e5710a2248",
   "metadata": {},
   "outputs": [],
   "source": [
    "for col in numeric_cols:\n",
    "    df[col] = pd.to_numeric(df[col], errors='coerce')"
   ]
  },
  {
   "cell_type": "code",
   "execution_count": 29,
   "id": "13e72d4e-ccae-4921-aa3a-949a6facd596",
   "metadata": {},
   "outputs": [],
   "source": [
    "def detect_outliers(df, column):\n",
    "    Q1 = df[column].quantile(0.25)\n",
    "    Q3 = df[column].quantile(0.75)\n",
    "    IQR = Q3 - Q1\n",
    "    lower_bound = Q1 - 1.5 * IQR\n",
    "    upper_bound = Q3 + 1.5 * IQR\n",
    "    \n",
    "    outliers = df[(df[column] < lower_bound) | (df[column] > upper_bound)]\n",
    "    return outliers"
   ]
  },
  {
   "cell_type": "code",
   "execution_count": 31,
   "id": "475185d6-75d5-4624-9837-aaf28415931d",
   "metadata": {},
   "outputs": [
    {
     "name": "stdout",
     "output_type": "stream",
     "text": [
      "Outliers in units_sold:\n",
      "0\n",
      "Outliers in unit_price:\n",
      "0\n",
      "Outliers in revenue:\n",
      "13\n",
      "Outliers in final_price:\n",
      "0\n"
     ]
    }
   ],
   "source": [
    "outlier_columns = ['units_sold', 'unit_price', 'revenue', 'final_price']\n",
    "for col in outlier_columns:\n",
    "    print(f\"Outliers in {col}:\")\n",
    "    print(detect_outliers(df, col).shape[0])"
   ]
  },
  {
   "cell_type": "code",
   "execution_count": 33,
   "id": "3b8a5912-7b6a-49e7-8d0f-8f1588ab8156",
   "metadata": {},
   "outputs": [],
   "source": [
    "calculated_final = df['unit_price'] * (1 - df['discount']/100)\n",
    "inconsistent = np.abs(calculated_final - df['final_price']) > 0.01"
   ]
  },
  {
   "cell_type": "code",
   "execution_count": 35,
   "id": "25966be3-a1e5-40d5-bae7-c401384fce10",
   "metadata": {
    "panel-layout": {
     "height": 0,
     "visible": true,
     "width": 100
    }
   },
   "outputs": [
    {
     "name": "stdout",
     "output_type": "stream",
     "text": [
      "Inconsistent final prices: 0\n"
     ]
    }
   ],
   "source": [
    "print(f\"Inconsistent final prices: {inconsistent.sum()}\")"
   ]
  },
  {
   "cell_type": "code",
   "execution_count": 37,
   "id": "c8e29465-a610-4540-8f9b-64f2db8a6615",
   "metadata": {
    "panel-layout": {
     "height": 0,
     "visible": true,
     "width": 100
    }
   },
   "outputs": [
    {
     "name": "stdout",
     "output_type": "stream",
     "text": [
      "Inconsistent revenue calculations: 294\n"
     ]
    }
   ],
   "source": [
    "calculated_revenue = df['units_sold'] * df['final_price']\n",
    "inconsistent_revenue = np.abs(calculated_revenue - df['revenue']) > 0.01\n",
    "print(f\"Inconsistent revenue calculations: {inconsistent_revenue.sum()}\")"
   ]
  },
  {
   "cell_type": "code",
   "execution_count": 39,
   "id": "0bbe2150-c4ff-4da8-882c-32816d07b156",
   "metadata": {},
   "outputs": [],
   "source": [
    "text_columns = ['platform', 'product_name', 'category', 'sub_category', 'region', \n",
    "                'promotion_type', 'customer_name', 'customer_region']"
   ]
  },
  {
   "cell_type": "code",
   "execution_count": 41,
   "id": "ac3be60a-cd65-4e86-96fd-2468dc81f9c2",
   "metadata": {},
   "outputs": [],
   "source": [
    "for col in text_columns:\n",
    "    df[col] = df[col].str.strip()\n",
    "    df[col] = df[col].str.title()"
   ]
  },
  {
   "cell_type": "code",
   "execution_count": 43,
   "id": "64b989a5-2938-4881-9738-9876cc359a9f",
   "metadata": {
    "panel-layout": {
     "height": 0,
     "visible": true,
     "width": 100
    }
   },
   "outputs": [
    {
     "name": "stdout",
     "output_type": "stream",
     "text": [
      "Invalid mobile numbers: 0\n"
     ]
    }
   ],
   "source": [
    "df['mobile_number'] = df['mobile_number'].astype(str)\n",
    "invalid_mobile = df['mobile_number'].str.len() != 10\n",
    "print(f\"Invalid mobile numbers: {invalid_mobile.sum()}\")"
   ]
  },
  {
   "cell_type": "code",
   "execution_count": 45,
   "id": "1ef34c74-59df-414f-9755-3eb82cec38a4",
   "metadata": {
    "panel-layout": {
     "height": 0,
     "visible": true,
     "width": 100
    }
   },
   "outputs": [
    {
     "name": "stdout",
     "output_type": "stream",
     "text": [
      "<class 'pandas.core.frame.DataFrame'>\n",
      "RangeIndex: 300 entries, 0 to 299\n",
      "Data columns (total 29 columns):\n",
      " #   Column              Non-Null Count  Dtype         \n",
      "---  ------              --------------  -----         \n",
      " 0   date                300 non-null    datetime64[ns]\n",
      " 1   platform            300 non-null    object        \n",
      " 2   product_name        300 non-null    object        \n",
      " 3   category            300 non-null    object        \n",
      " 4   sub_category        300 non-null    object        \n",
      " 5   region              300 non-null    object        \n",
      " 6   units_sold          300 non-null    int64         \n",
      " 7   unit_price          300 non-null    float64       \n",
      " 8   revenue             300 non-null    float64       \n",
      " 9   discount            300 non-null    int64         \n",
      " 10  final_price         300 non-null    float64       \n",
      " 11  marketing_spend     300 non-null    float64       \n",
      " 12  holiday_flag        300 non-null    int64         \n",
      " 13  customer_rating     300 non-null    int64         \n",
      " 14  return_rate         300 non-null    float64       \n",
      " 15  stock_available     300 non-null    int64         \n",
      " 16  competitor_price    300 non-null    float64       \n",
      " 17  delivery_time_days  300 non-null    int64         \n",
      " 18  platform_fee        300 non-null    float64       \n",
      " 19  profit_margin       300 non-null    float64       \n",
      " 20  sentiment_score     300 non-null    float64       \n",
      " 21  day_of_week         300 non-null    object        \n",
      " 22  month               300 non-null    int64         \n",
      " 23  year                300 non-null    int64         \n",
      " 24  promotion_type      300 non-null    object        \n",
      " 25  customer_name       300 non-null    object        \n",
      " 26  customer_age        300 non-null    int64         \n",
      " 27  mobile_number       300 non-null    object        \n",
      " 28  customer_region     300 non-null    object        \n",
      "dtypes: datetime64[ns](1), float64(9), int64(9), object(10)\n",
      "memory usage: 68.1+ KB\n",
      "None\n"
     ]
    }
   ],
   "source": [
    "print(df.info())"
   ]
  },
  {
   "cell_type": "code",
   "execution_count": 47,
   "id": "1a6c698e-f5a4-489a-a699-474bead1f524",
   "metadata": {
    "panel-layout": {
     "height": 0,
     "visible": true,
     "width": 100
    }
   },
   "outputs": [
    {
     "name": "stdout",
     "output_type": "stream",
     "text": [
      "date                  0\n",
      "platform              0\n",
      "product_name          0\n",
      "category              0\n",
      "sub_category          0\n",
      "region                0\n",
      "units_sold            0\n",
      "unit_price            0\n",
      "revenue               0\n",
      "discount              0\n",
      "final_price           0\n",
      "marketing_spend       0\n",
      "holiday_flag          0\n",
      "customer_rating       0\n",
      "return_rate           0\n",
      "stock_available       0\n",
      "competitor_price      0\n",
      "delivery_time_days    0\n",
      "platform_fee          0\n",
      "profit_margin         0\n",
      "sentiment_score       0\n",
      "day_of_week           0\n",
      "month                 0\n",
      "year                  0\n",
      "promotion_type        0\n",
      "customer_name         0\n",
      "customer_age          0\n",
      "mobile_number         0\n",
      "customer_region       0\n",
      "dtype: int64\n"
     ]
    }
   ],
   "source": [
    "print(df.isnull().sum())"
   ]
  },
  {
   "cell_type": "code",
   "execution_count": 49,
   "id": "de53094e-f835-441f-8eb2-2bcd77af9adf",
   "metadata": {
    "panel-layout": {
     "height": 0,
     "visible": true,
     "width": 100
    }
   },
   "outputs": [],
   "source": [
    "df.to_csv('cleaned_sales.csv', index=False)"
   ]
  },
  {
   "cell_type": "code",
   "execution_count": null,
   "id": "cc22f770-34fd-4a54-830d-073e387ac6c2",
   "metadata": {},
   "outputs": [],
   "source": []
  }
 ],
 "metadata": {
  "kernelspec": {
   "display_name": "Python 3 (ipykernel)",
   "language": "python",
   "name": "python3"
  },
  "language_info": {
   "codemirror_mode": {
    "name": "ipython",
    "version": 3
   },
   "file_extension": ".py",
   "mimetype": "text/x-python",
   "name": "python",
   "nbconvert_exporter": "python",
   "pygments_lexer": "ipython3",
   "version": "3.12.7"
  },
  "panel-cell-order": [
   "247e8e06-5bce-48b1-b8a2-297bb86eeb46",
   "a7f882bb-c987-41e8-bea7-a9f5a76e76e1",
   "b0006791-1883-4bd9-8c7b-345dd9eb09f9",
   "8219a789-6f7b-402d-9f43-0e9bec33b8fe",
   "3020c738-8096-4816-9eb7-39f9d4307475",
   "23747be4-8f27-4aae-8b29-efbf62de1f5c",
   "25966be3-a1e5-40d5-bae7-c401384fce10",
   "c8e29465-a610-4540-8f9b-64f2db8a6615",
   "64b989a5-2938-4881-9738-9876cc359a9f",
   "1ef34c74-59df-414f-9755-3eb82cec38a4",
   "1a6c698e-f5a4-489a-a699-474bead1f524",
   "de53094e-f835-441f-8eb2-2bcd77af9adf"
  ]
 },
 "nbformat": 4,
 "nbformat_minor": 5
}
